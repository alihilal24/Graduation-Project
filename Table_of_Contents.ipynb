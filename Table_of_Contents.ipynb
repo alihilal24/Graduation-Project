{
  "nbformat": 4,
  "nbformat_minor": 0,
  "metadata": {
    "colab": {
      "provenance": [],
      "authorship_tag": "ABX9TyN0DuAjXWi3r02G2oJWAivX",
      "include_colab_link": true
    },
    "kernelspec": {
      "name": "python3",
      "display_name": "Python 3"
    },
    "language_info": {
      "name": "python"
    }
  },
  "cells": [
    {
      "cell_type": "markdown",
      "metadata": {
        "id": "view-in-github",
        "colab_type": "text"
      },
      "source": [
        "<a href=\"https://colab.research.google.com/github/alihilal24/Safedeploy-Pixie-Project/blob/master/Table_of_Contents.ipynb\" target=\"_parent\"><img src=\"https://colab.research.google.com/assets/colab-badge.svg\" alt=\"Open In Colab\"/></a>"
      ]
    },
    {
      "cell_type": "markdown",
      "source": [
        "# Table of Contents for Flamegraph"
      ],
      "metadata": {
        "id": "9mV-n11LuDI5"
      }
    },
    {
      "cell_type": "code",
      "execution_count": 26,
      "metadata": {
        "colab": {
          "base_uri": "https://localhost:8080/"
        },
        "id": "n9fbou9ys3P7",
        "outputId": "b7628638-689c-44c2-d4c6-e3af8e8c536e"
      },
      "outputs": [
        {
          "output_type": "stream",
          "name": "stdout",
          "text": [
            "Drive already mounted at /content/drive; to attempt to forcibly remount, call drive.mount(\"/content/drive\", force_remount=True).\n"
          ]
        }
      ],
      "source": [
        "import pandas as pd\n",
        "import csv\n",
        "from google.colab import drive\n",
        "drive.mount('/content/drive')"
      ]
    },
    {
      "cell_type": "markdown",
      "source": [
        "## Network Timeseries DF"
      ],
      "metadata": {
        "id": "CsudIbQYiZjp"
      }
    },
    {
      "cell_type": "code",
      "source": [
        "network_timeseries = pd.read_csv('/content/drive/MyDrive/csv files/network_timeseries.csv', skiprows=1)\n",
        "network_timeseries = network_timeseries.drop('TIME', axis=1)\n",
        "\n",
        "network_timeseries.head()"
      ],
      "metadata": {
        "colab": {
          "base_uri": "https://localhost:8080/",
          "height": 204
        },
        "id": "eZcd-9WsuWJG",
        "outputId": "8eb4066f-5862-4127-af9c-a287caf25807"
      },
      "execution_count": 27,
      "outputs": [
        {
          "output_type": "execute_result",
          "data": {
            "text/plain": [
              "                       TIMESTAMP RX BYTES PER NS TX BYTES PER NS  \\\n",
              "0  2023-03-29 18:28:50 +0000 UTC       654 B/sec     227 KiB/sec   \n",
              "1  2023-03-29 18:29:40 +0000 UTC       918 B/sec     203 KiB/sec   \n",
              "2  2023-03-29 18:32:00 +0000 UTC       805 B/sec     167 KiB/sec   \n",
              "3  2023-03-29 18:30:50 +0000 UTC       884 B/sec     214 KiB/sec   \n",
              "4  2023-03-29 18:31:40 +0000 UTC       521 B/sec     146 KiB/sec   \n",
              "\n",
              "  RX DROP PER NS TX DROPS PER NS RX ERRORS PER NS TX ERRORS PER NS   \n",
              "0  0.000000 /sec   0.000000 /sec    0.000000 /sec     0.000000 /sec  \n",
              "1  0.000000 /sec   0.000000 /sec    0.000000 /sec     0.000000 /sec  \n",
              "2  0.000000 /sec   0.000000 /sec    0.000000 /sec     0.000000 /sec  \n",
              "3  0.000000 /sec   0.000000 /sec    0.000000 /sec     0.000000 /sec  \n",
              "4  0.000000 /sec   0.000000 /sec    0.000000 /sec     0.000000 /sec  "
            ],
            "text/html": [
              "\n",
              "  <div id=\"df-56e029b9-6da9-42c2-a3c5-cbaf92fcedf6\">\n",
              "    <div class=\"colab-df-container\">\n",
              "      <div>\n",
              "<style scoped>\n",
              "    .dataframe tbody tr th:only-of-type {\n",
              "        vertical-align: middle;\n",
              "    }\n",
              "\n",
              "    .dataframe tbody tr th {\n",
              "        vertical-align: top;\n",
              "    }\n",
              "\n",
              "    .dataframe thead th {\n",
              "        text-align: right;\n",
              "    }\n",
              "</style>\n",
              "<table border=\"1\" class=\"dataframe\">\n",
              "  <thead>\n",
              "    <tr style=\"text-align: right;\">\n",
              "      <th></th>\n",
              "      <th>TIMESTAMP</th>\n",
              "      <th>RX BYTES PER NS</th>\n",
              "      <th>TX BYTES PER NS</th>\n",
              "      <th>RX DROP PER NS</th>\n",
              "      <th>TX DROPS PER NS</th>\n",
              "      <th>RX ERRORS PER NS</th>\n",
              "      <th>TX ERRORS PER NS</th>\n",
              "    </tr>\n",
              "  </thead>\n",
              "  <tbody>\n",
              "    <tr>\n",
              "      <th>0</th>\n",
              "      <td>2023-03-29 18:28:50 +0000 UTC</td>\n",
              "      <td>654 B/sec</td>\n",
              "      <td>227 KiB/sec</td>\n",
              "      <td>0.000000 /sec</td>\n",
              "      <td>0.000000 /sec</td>\n",
              "      <td>0.000000 /sec</td>\n",
              "      <td>0.000000 /sec</td>\n",
              "    </tr>\n",
              "    <tr>\n",
              "      <th>1</th>\n",
              "      <td>2023-03-29 18:29:40 +0000 UTC</td>\n",
              "      <td>918 B/sec</td>\n",
              "      <td>203 KiB/sec</td>\n",
              "      <td>0.000000 /sec</td>\n",
              "      <td>0.000000 /sec</td>\n",
              "      <td>0.000000 /sec</td>\n",
              "      <td>0.000000 /sec</td>\n",
              "    </tr>\n",
              "    <tr>\n",
              "      <th>2</th>\n",
              "      <td>2023-03-29 18:32:00 +0000 UTC</td>\n",
              "      <td>805 B/sec</td>\n",
              "      <td>167 KiB/sec</td>\n",
              "      <td>0.000000 /sec</td>\n",
              "      <td>0.000000 /sec</td>\n",
              "      <td>0.000000 /sec</td>\n",
              "      <td>0.000000 /sec</td>\n",
              "    </tr>\n",
              "    <tr>\n",
              "      <th>3</th>\n",
              "      <td>2023-03-29 18:30:50 +0000 UTC</td>\n",
              "      <td>884 B/sec</td>\n",
              "      <td>214 KiB/sec</td>\n",
              "      <td>0.000000 /sec</td>\n",
              "      <td>0.000000 /sec</td>\n",
              "      <td>0.000000 /sec</td>\n",
              "      <td>0.000000 /sec</td>\n",
              "    </tr>\n",
              "    <tr>\n",
              "      <th>4</th>\n",
              "      <td>2023-03-29 18:31:40 +0000 UTC</td>\n",
              "      <td>521 B/sec</td>\n",
              "      <td>146 KiB/sec</td>\n",
              "      <td>0.000000 /sec</td>\n",
              "      <td>0.000000 /sec</td>\n",
              "      <td>0.000000 /sec</td>\n",
              "      <td>0.000000 /sec</td>\n",
              "    </tr>\n",
              "  </tbody>\n",
              "</table>\n",
              "</div>\n",
              "      <button class=\"colab-df-convert\" onclick=\"convertToInteractive('df-56e029b9-6da9-42c2-a3c5-cbaf92fcedf6')\"\n",
              "              title=\"Convert this dataframe to an interactive table.\"\n",
              "              style=\"display:none;\">\n",
              "        \n",
              "  <svg xmlns=\"http://www.w3.org/2000/svg\" height=\"24px\"viewBox=\"0 0 24 24\"\n",
              "       width=\"24px\">\n",
              "    <path d=\"M0 0h24v24H0V0z\" fill=\"none\"/>\n",
              "    <path d=\"M18.56 5.44l.94 2.06.94-2.06 2.06-.94-2.06-.94-.94-2.06-.94 2.06-2.06.94zm-11 1L8.5 8.5l.94-2.06 2.06-.94-2.06-.94L8.5 2.5l-.94 2.06-2.06.94zm10 10l.94 2.06.94-2.06 2.06-.94-2.06-.94-.94-2.06-.94 2.06-2.06.94z\"/><path d=\"M17.41 7.96l-1.37-1.37c-.4-.4-.92-.59-1.43-.59-.52 0-1.04.2-1.43.59L10.3 9.45l-7.72 7.72c-.78.78-.78 2.05 0 2.83L4 21.41c.39.39.9.59 1.41.59.51 0 1.02-.2 1.41-.59l7.78-7.78 2.81-2.81c.8-.78.8-2.07 0-2.86zM5.41 20L4 18.59l7.72-7.72 1.47 1.35L5.41 20z\"/>\n",
              "  </svg>\n",
              "      </button>\n",
              "      \n",
              "  <style>\n",
              "    .colab-df-container {\n",
              "      display:flex;\n",
              "      flex-wrap:wrap;\n",
              "      gap: 12px;\n",
              "    }\n",
              "\n",
              "    .colab-df-convert {\n",
              "      background-color: #E8F0FE;\n",
              "      border: none;\n",
              "      border-radius: 50%;\n",
              "      cursor: pointer;\n",
              "      display: none;\n",
              "      fill: #1967D2;\n",
              "      height: 32px;\n",
              "      padding: 0 0 0 0;\n",
              "      width: 32px;\n",
              "    }\n",
              "\n",
              "    .colab-df-convert:hover {\n",
              "      background-color: #E2EBFA;\n",
              "      box-shadow: 0px 1px 2px rgba(60, 64, 67, 0.3), 0px 1px 3px 1px rgba(60, 64, 67, 0.15);\n",
              "      fill: #174EA6;\n",
              "    }\n",
              "\n",
              "    [theme=dark] .colab-df-convert {\n",
              "      background-color: #3B4455;\n",
              "      fill: #D2E3FC;\n",
              "    }\n",
              "\n",
              "    [theme=dark] .colab-df-convert:hover {\n",
              "      background-color: #434B5C;\n",
              "      box-shadow: 0px 1px 3px 1px rgba(0, 0, 0, 0.15);\n",
              "      filter: drop-shadow(0px 1px 2px rgba(0, 0, 0, 0.3));\n",
              "      fill: #FFFFFF;\n",
              "    }\n",
              "  </style>\n",
              "\n",
              "      <script>\n",
              "        const buttonEl =\n",
              "          document.querySelector('#df-56e029b9-6da9-42c2-a3c5-cbaf92fcedf6 button.colab-df-convert');\n",
              "        buttonEl.style.display =\n",
              "          google.colab.kernel.accessAllowed ? 'block' : 'none';\n",
              "\n",
              "        async function convertToInteractive(key) {\n",
              "          const element = document.querySelector('#df-56e029b9-6da9-42c2-a3c5-cbaf92fcedf6');\n",
              "          const dataTable =\n",
              "            await google.colab.kernel.invokeFunction('convertToInteractive',\n",
              "                                                     [key], {});\n",
              "          if (!dataTable) return;\n",
              "\n",
              "          const docLinkHtml = 'Like what you see? Visit the ' +\n",
              "            '<a target=\"_blank\" href=https://colab.research.google.com/notebooks/data_table.ipynb>data table notebook</a>'\n",
              "            + ' to learn more about interactive tables.';\n",
              "          element.innerHTML = '';\n",
              "          dataTable['output_type'] = 'display_data';\n",
              "          await google.colab.output.renderOutput(dataTable, element);\n",
              "          const docLink = document.createElement('div');\n",
              "          docLink.innerHTML = docLinkHtml;\n",
              "          element.appendChild(docLink);\n",
              "        }\n",
              "      </script>\n",
              "    </div>\n",
              "  </div>\n",
              "  "
            ]
          },
          "metadata": {},
          "execution_count": 27
        }
      ]
    },
    {
      "cell_type": "code",
      "source": [
        "network_timeseries.columns"
      ],
      "metadata": {
        "colab": {
          "base_uri": "https://localhost:8080/"
        },
        "id": "nUjJwoiXu7US",
        "outputId": "743665c7-ddcd-454b-e1fe-0ea06e190ef3"
      },
      "execution_count": 28,
      "outputs": [
        {
          "output_type": "execute_result",
          "data": {
            "text/plain": [
              "Index(['TIMESTAMP', 'RX BYTES PER NS', 'TX BYTES PER NS', 'RX DROP PER NS',\n",
              "       'TX DROPS PER NS', 'RX ERRORS PER NS', 'TX ERRORS PER NS '],\n",
              "      dtype='object')"
            ]
          },
          "metadata": {},
          "execution_count": 28
        }
      ]
    },
    {
      "cell_type": "markdown",
      "source": [
        "## Pod Performance"
      ],
      "metadata": {
        "id": "nIqrbHT3i_z2"
      }
    },
    {
      "cell_type": "code",
      "source": [
        "pod_performance = pd.read_csv('/content/drive/MyDrive/csv files/pod_performance.csv')\n",
        "\n",
        "# pod_performance = pod_performance.drop(['STACK TRACE', 'Unnamed: 6', 'Unnamed: 7'], axis=1)\n",
        "# pod_performance = pod_performance.rename(columns={'STACK TRACE 2': 'STACK TRACE'})\n",
        "\n",
        "\n",
        "pod_performance.head()"
      ],
      "metadata": {
        "colab": {
          "base_uri": "https://localhost:8080/",
          "height": 204
        },
        "id": "sWyDOKY3jK3n",
        "outputId": "d0a81c2d-0638-447d-96f0-097e4d701295"
      },
      "execution_count": 29,
      "outputs": [
        {
          "output_type": "execute_result",
          "data": {
            "text/plain": [
              "  NAMESPACE                             POD CONTAINER     CMDLINE  \\\n",
              "0   default  default/hello-5fdd6b8999-qf47s     hello  /hello-app   \n",
              "1   default  default/hello-5fdd6b8999-qf47s     hello  /hello-app   \n",
              "2   default  default/hello-5fdd6b8999-qf47s     hello  /hello-app   \n",
              "3   default  default/hello-5fdd6b8999-qf47s     hello  /hello-app   \n",
              "4   default  default/hello-5fdd6b8999-qf47s     hello  /hello-app   \n",
              "\n",
              "   STACK TRACE ID                                        STACK TRACE  \n",
              "0      12393314.0  runtime.goexit.abi0;net/http.(*Server).Serve.f...  \n",
              "1      12464852.0  runtime.goexit.abi0;net/http.(*Server).Serve.f...  \n",
              "2      12463200.0  runtime.goexit.abi0;net/http.(*Server).Serve.f...  \n",
              "3      12465599.0  runtime.goexit.abi0;net/http.(*Server).Serve.f...  \n",
              "4      12466064.0  runtime.goexit.abi0;runtime.gcenable.func2;run...  "
            ],
            "text/html": [
              "\n",
              "  <div id=\"df-f4b98997-9f9f-4711-83bd-1f90f3885a42\">\n",
              "    <div class=\"colab-df-container\">\n",
              "      <div>\n",
              "<style scoped>\n",
              "    .dataframe tbody tr th:only-of-type {\n",
              "        vertical-align: middle;\n",
              "    }\n",
              "\n",
              "    .dataframe tbody tr th {\n",
              "        vertical-align: top;\n",
              "    }\n",
              "\n",
              "    .dataframe thead th {\n",
              "        text-align: right;\n",
              "    }\n",
              "</style>\n",
              "<table border=\"1\" class=\"dataframe\">\n",
              "  <thead>\n",
              "    <tr style=\"text-align: right;\">\n",
              "      <th></th>\n",
              "      <th>NAMESPACE</th>\n",
              "      <th>POD</th>\n",
              "      <th>CONTAINER</th>\n",
              "      <th>CMDLINE</th>\n",
              "      <th>STACK TRACE ID</th>\n",
              "      <th>STACK TRACE</th>\n",
              "    </tr>\n",
              "  </thead>\n",
              "  <tbody>\n",
              "    <tr>\n",
              "      <th>0</th>\n",
              "      <td>default</td>\n",
              "      <td>default/hello-5fdd6b8999-qf47s</td>\n",
              "      <td>hello</td>\n",
              "      <td>/hello-app</td>\n",
              "      <td>12393314.0</td>\n",
              "      <td>runtime.goexit.abi0;net/http.(*Server).Serve.f...</td>\n",
              "    </tr>\n",
              "    <tr>\n",
              "      <th>1</th>\n",
              "      <td>default</td>\n",
              "      <td>default/hello-5fdd6b8999-qf47s</td>\n",
              "      <td>hello</td>\n",
              "      <td>/hello-app</td>\n",
              "      <td>12464852.0</td>\n",
              "      <td>runtime.goexit.abi0;net/http.(*Server).Serve.f...</td>\n",
              "    </tr>\n",
              "    <tr>\n",
              "      <th>2</th>\n",
              "      <td>default</td>\n",
              "      <td>default/hello-5fdd6b8999-qf47s</td>\n",
              "      <td>hello</td>\n",
              "      <td>/hello-app</td>\n",
              "      <td>12463200.0</td>\n",
              "      <td>runtime.goexit.abi0;net/http.(*Server).Serve.f...</td>\n",
              "    </tr>\n",
              "    <tr>\n",
              "      <th>3</th>\n",
              "      <td>default</td>\n",
              "      <td>default/hello-5fdd6b8999-qf47s</td>\n",
              "      <td>hello</td>\n",
              "      <td>/hello-app</td>\n",
              "      <td>12465599.0</td>\n",
              "      <td>runtime.goexit.abi0;net/http.(*Server).Serve.f...</td>\n",
              "    </tr>\n",
              "    <tr>\n",
              "      <th>4</th>\n",
              "      <td>default</td>\n",
              "      <td>default/hello-5fdd6b8999-qf47s</td>\n",
              "      <td>hello</td>\n",
              "      <td>/hello-app</td>\n",
              "      <td>12466064.0</td>\n",
              "      <td>runtime.goexit.abi0;runtime.gcenable.func2;run...</td>\n",
              "    </tr>\n",
              "  </tbody>\n",
              "</table>\n",
              "</div>\n",
              "      <button class=\"colab-df-convert\" onclick=\"convertToInteractive('df-f4b98997-9f9f-4711-83bd-1f90f3885a42')\"\n",
              "              title=\"Convert this dataframe to an interactive table.\"\n",
              "              style=\"display:none;\">\n",
              "        \n",
              "  <svg xmlns=\"http://www.w3.org/2000/svg\" height=\"24px\"viewBox=\"0 0 24 24\"\n",
              "       width=\"24px\">\n",
              "    <path d=\"M0 0h24v24H0V0z\" fill=\"none\"/>\n",
              "    <path d=\"M18.56 5.44l.94 2.06.94-2.06 2.06-.94-2.06-.94-.94-2.06-.94 2.06-2.06.94zm-11 1L8.5 8.5l.94-2.06 2.06-.94-2.06-.94L8.5 2.5l-.94 2.06-2.06.94zm10 10l.94 2.06.94-2.06 2.06-.94-2.06-.94-.94-2.06-.94 2.06-2.06.94z\"/><path d=\"M17.41 7.96l-1.37-1.37c-.4-.4-.92-.59-1.43-.59-.52 0-1.04.2-1.43.59L10.3 9.45l-7.72 7.72c-.78.78-.78 2.05 0 2.83L4 21.41c.39.39.9.59 1.41.59.51 0 1.02-.2 1.41-.59l7.78-7.78 2.81-2.81c.8-.78.8-2.07 0-2.86zM5.41 20L4 18.59l7.72-7.72 1.47 1.35L5.41 20z\"/>\n",
              "  </svg>\n",
              "      </button>\n",
              "      \n",
              "  <style>\n",
              "    .colab-df-container {\n",
              "      display:flex;\n",
              "      flex-wrap:wrap;\n",
              "      gap: 12px;\n",
              "    }\n",
              "\n",
              "    .colab-df-convert {\n",
              "      background-color: #E8F0FE;\n",
              "      border: none;\n",
              "      border-radius: 50%;\n",
              "      cursor: pointer;\n",
              "      display: none;\n",
              "      fill: #1967D2;\n",
              "      height: 32px;\n",
              "      padding: 0 0 0 0;\n",
              "      width: 32px;\n",
              "    }\n",
              "\n",
              "    .colab-df-convert:hover {\n",
              "      background-color: #E2EBFA;\n",
              "      box-shadow: 0px 1px 2px rgba(60, 64, 67, 0.3), 0px 1px 3px 1px rgba(60, 64, 67, 0.15);\n",
              "      fill: #174EA6;\n",
              "    }\n",
              "\n",
              "    [theme=dark] .colab-df-convert {\n",
              "      background-color: #3B4455;\n",
              "      fill: #D2E3FC;\n",
              "    }\n",
              "\n",
              "    [theme=dark] .colab-df-convert:hover {\n",
              "      background-color: #434B5C;\n",
              "      box-shadow: 0px 1px 3px 1px rgba(0, 0, 0, 0.15);\n",
              "      filter: drop-shadow(0px 1px 2px rgba(0, 0, 0, 0.3));\n",
              "      fill: #FFFFFF;\n",
              "    }\n",
              "  </style>\n",
              "\n",
              "      <script>\n",
              "        const buttonEl =\n",
              "          document.querySelector('#df-f4b98997-9f9f-4711-83bd-1f90f3885a42 button.colab-df-convert');\n",
              "        buttonEl.style.display =\n",
              "          google.colab.kernel.accessAllowed ? 'block' : 'none';\n",
              "\n",
              "        async function convertToInteractive(key) {\n",
              "          const element = document.querySelector('#df-f4b98997-9f9f-4711-83bd-1f90f3885a42');\n",
              "          const dataTable =\n",
              "            await google.colab.kernel.invokeFunction('convertToInteractive',\n",
              "                                                     [key], {});\n",
              "          if (!dataTable) return;\n",
              "\n",
              "          const docLinkHtml = 'Like what you see? Visit the ' +\n",
              "            '<a target=\"_blank\" href=https://colab.research.google.com/notebooks/data_table.ipynb>data table notebook</a>'\n",
              "            + ' to learn more about interactive tables.';\n",
              "          element.innerHTML = '';\n",
              "          dataTable['output_type'] = 'display_data';\n",
              "          await google.colab.output.renderOutput(dataTable, element);\n",
              "          const docLink = document.createElement('div');\n",
              "          docLink.innerHTML = docLinkHtml;\n",
              "          element.appendChild(docLink);\n",
              "        }\n",
              "      </script>\n",
              "    </div>\n",
              "  </div>\n",
              "  "
            ]
          },
          "metadata": {},
          "execution_count": 29
        }
      ]
    },
    {
      "cell_type": "code",
      "source": [
        "# from google.colab import files\n",
        "\n",
        "# pod_performance.to_csv('pod_performance.csv', index=False)\n",
        "# files.download('pod_performance.csv')"
      ],
      "metadata": {
        "colab": {
          "base_uri": "https://localhost:8080/",
          "height": 17
        },
        "id": "7vpSlGYolY6h",
        "outputId": "3c8a0a64-9ea3-4885-9d80-06fcbe59f677"
      },
      "execution_count": 25,
      "outputs": [
        {
          "output_type": "display_data",
          "data": {
            "text/plain": [
              "<IPython.core.display.Javascript object>"
            ],
            "application/javascript": [
              "\n",
              "    async function download(id, filename, size) {\n",
              "      if (!google.colab.kernel.accessAllowed) {\n",
              "        return;\n",
              "      }\n",
              "      const div = document.createElement('div');\n",
              "      const label = document.createElement('label');\n",
              "      label.textContent = `Downloading \"${filename}\": `;\n",
              "      div.appendChild(label);\n",
              "      const progress = document.createElement('progress');\n",
              "      progress.max = size;\n",
              "      div.appendChild(progress);\n",
              "      document.body.appendChild(div);\n",
              "\n",
              "      const buffers = [];\n",
              "      let downloaded = 0;\n",
              "\n",
              "      const channel = await google.colab.kernel.comms.open(id);\n",
              "      // Send a message to notify the kernel that we're ready.\n",
              "      channel.send({})\n",
              "\n",
              "      for await (const message of channel.messages) {\n",
              "        // Send a message to notify the kernel that we're ready.\n",
              "        channel.send({})\n",
              "        if (message.buffers) {\n",
              "          for (const buffer of message.buffers) {\n",
              "            buffers.push(buffer);\n",
              "            downloaded += buffer.byteLength;\n",
              "            progress.value = downloaded;\n",
              "          }\n",
              "        }\n",
              "      }\n",
              "      const blob = new Blob(buffers, {type: 'application/binary'});\n",
              "      const a = document.createElement('a');\n",
              "      a.href = window.URL.createObjectURL(blob);\n",
              "      a.download = filename;\n",
              "      div.appendChild(a);\n",
              "      a.click();\n",
              "      div.remove();\n",
              "    }\n",
              "  "
            ]
          },
          "metadata": {}
        },
        {
          "output_type": "display_data",
          "data": {
            "text/plain": [
              "<IPython.core.display.Javascript object>"
            ],
            "application/javascript": [
              "download(\"download_ae4da3da-2df7-4aea-8a88-a0f01d8e87ac\", \"pod_performance.csv\", 273140)"
            ]
          },
          "metadata": {}
        }
      ]
    },
    {
      "cell_type": "code",
      "source": [],
      "metadata": {
        "id": "L4yJE6KTp34W"
      },
      "execution_count": null,
      "outputs": []
    }
  ]
}